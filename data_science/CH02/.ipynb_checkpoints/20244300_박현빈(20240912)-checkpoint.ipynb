{
 "cells": [
  {
   "cell_type": "markdown",
   "id": "98a442b3",
   "metadata": {},
   "source": [
    "# 20244300_박현빈(20240912)\n",
    "- 박현빈\n",
    "- 20244300"
   ]
  },
  {
   "cell_type": "markdown",
   "id": "7befecc3",
   "metadata": {},
   "source": [
    "## 오늘 배운 내용\n",
    "• 식별자 만드는 규칙  \n",
    "• 변수 선언 방법 \n",
    "• 삼각형 면적 구해서 출력 하기   \n",
    "• 사용자로부터 밑변 길이 입력받아 면적 출력하기  \n",
    "• 홑따옴표, 쌍따옴표 모두 써야 할 때는 역슬래시를 사용한다.  \n",
    "    ex) print('He said \"what(역슬래시)s there?\")  \n"
   ]
  },
  {
   "cell_type": "markdown",
   "id": "8d9679d8",
   "metadata": {},
   "source": [
    "## 어려운 점들"
   ]
  },
  {
   "cell_type": "markdown",
   "id": "9c011656",
   "metadata": {},
   "source": [
    "## 주관식 문제\n",
    "\n",
    "(1) 변수  \n",
    "(2) 할당 연산자, 대입 연산자  \n",
    "(3) 동시 할당문  \n",
    "(4) 식별자  \n",
    "(5) 함수  \n",
    "(6) 메모리 주소  \n",
    "(7) 데이터 타입, 자료형  \n",
    "(8) 정수형(int), 실수형(float), 문자열(str), 불리언(boolean)  \n",
    "(9) type(변수이름)  \n",
    "(10) 메소드  \n",
    "(11) 상수  "
   ]
  },
  {
   "cell_type": "markdown",
   "id": "5c8492de",
   "metadata": {},
   "source": [
    "### 식별자 만드는 규칙\n",
    "1. 식별자는 문자와 숫자, 밑줄 문자(_)로 이루어지며 밑줄 문자 이외의 특수 문자를 사용할 수 없다.  \n",
    "2. 식별자의 첫 글자는 숫자로 시작할 수 없다. 또한 중간에 공백을 가질 수 없다.  \n",
    "3. 대문자와 소문자는 구별된다. 따라서 변수 index와 INDEX은 서로 다른 변수이다.  \n",
    "4. 파이썬의 예약어(키워드)는 식별자로 사용할 수 없다.  "
   ]
  },
  {
   "cell_type": "markdown",
   "id": "23f02c73",
   "metadata": {},
   "source": [
    "### 2장 심화문제"
   ]
  },
  {
   "cell_type": "code",
   "execution_count": 1,
   "id": "4e74fb48",
   "metadata": {},
   "outputs": [
    {
     "name": "stdout",
     "output_type": "stream",
     "text": [
      "삼각형의 면적: 400.0\r\n"
     ]
    }
   ],
   "source": [
    "#1)\n",
    "!python get_triangle_area.py"
   ]
  },
  {
   "cell_type": "code",
   "execution_count": null,
   "id": "fa0d77d0",
   "metadata": {},
   "outputs": [],
   "source": [
    "# 2-1\n",
    "\n",
    "print(200, '+', 300, '+', 400, '=', 200+300+400)"
   ]
  },
  {
   "cell_type": "code",
   "execution_count": null,
   "id": "76aeb50b",
   "metadata": {},
   "outputs": [],
   "source": [
    "# 2-2\n",
    "\n",
    "width=30\n",
    "height=60\n",
    "print(width)\n",
    "print(height)"
   ]
  },
  {
   "cell_type": "code",
   "execution_count": null,
   "id": "91fa4748",
   "metadata": {},
   "outputs": [],
   "source": [
    "# 2-3\n",
    "\n",
    "width, height = 30, 60\n",
    "\n",
    "print(width)\n",
    "print(height)"
   ]
  },
  {
   "cell_type": "code",
   "execution_count": null,
   "id": "6ad26c62",
   "metadata": {},
   "outputs": [],
   "source": [
    "# 2-4\n",
    "\n",
    "width=40\n",
    "height=60\n",
    "\n",
    "area = width * height / 2\n",
    "print('삼각형의 면적:', area)"
   ]
  },
  {
   "cell_type": "code",
   "execution_count": 2,
   "id": "c797110e",
   "metadata": {},
   "outputs": [
    {
     "name": "stdout",
     "output_type": "stream",
     "text": [
      "정사각형의 밑변을 입력하시오 :40\n",
      "정사각형의 면적 :  1600\n"
     ]
    }
   ],
   "source": [
    "# 2-5\n",
    "\n",
    "width=int(input(\"정사각형의 밑변을 입력하시오 :\"))\n",
    "\n",
    "area=width**2 \n",
    "print(\"정사각형의 면적 : \", area)"
   ]
  },
  {
   "cell_type": "code",
   "execution_count": 9,
   "id": "41197297",
   "metadata": {},
   "outputs": [
    {
     "name": "stdout",
     "output_type": "stream",
     "text": [
      "55\n"
     ]
    }
   ],
   "source": [
    "# 2-6\n",
    "\n",
    "# sum = 1+2+3+4+5+6+7+8+9+10\n",
    "# print(sum)\n",
    "\n",
    "sum=0\n",
    "for i in range(1,11) :\n",
    "    sum+=i\n",
    "print(\"1에서 10까지의 합 : \",sum)"
   ]
  },
  {
   "cell_type": "code",
   "execution_count": 10,
   "id": "f9c74480",
   "metadata": {},
   "outputs": [
    {
     "name": "stdout",
     "output_type": "stream",
     "text": [
      "10! =  3628800\n"
     ]
    }
   ],
   "source": [
    "# 2-7\n",
    "\n",
    "print(\"10! = \",1*2*3*4*5*6*7*8*9*10)"
   ]
  },
  {
   "cell_type": "code",
   "execution_count": 15,
   "id": "6a21f4a6",
   "metadata": {},
   "outputs": [
    {
     "name": "stdout",
     "output_type": "stream",
     "text": [
      "\n",
      "섭씨 화씨\n",
      "0 32.0\n",
      "10 50.0\n",
      "20 68.0\n",
      "30 86.0\n",
      "40 104.0\n"
     ]
    }
   ],
   "source": [
    "# 2-8\n",
    "\n",
    "celsius = 0\n",
    "\n",
    "print(\"섭씨 화씨\")\n",
    "for i in range(0,50,10) :\n",
    "    celsius = i\n",
    "    fahrenheit = (9/5) * celsius +32\n",
    "    print(celsius, fahrenheit)\n"
   ]
  },
  {
   "cell_type": "code",
   "execution_count": 17,
   "id": "74195117",
   "metadata": {},
   "outputs": [
    {
     "name": "stdout",
     "output_type": "stream",
     "text": [
      "섭씨온도를 입력하세요 : 30\n",
      "섭씨 30 도는 화씨 86.0 도 입니다.\n"
     ]
    }
   ],
   "source": [
    "# 2-9\n",
    "celsius=int(input(\"섭씨온도를 입력하세요 : \"))\n",
    "fahrenheit = (9/5) * celsius +32\n",
    "print(\"섭씨\",celsius,\"도는 화씨\",fahrenheit,\"도 입니다.\")"
   ]
  },
  {
   "cell_type": "code",
   "execution_count": 21,
   "id": "43c328c2",
   "metadata": {},
   "outputs": [
    {
     "name": "stdout",
     "output_type": "stream",
     "text": [
      "원의 반지름을 입력하세요 : 11\n",
      "원의 둘레 = 69.115024 원의 면적 = 380.132632\n"
     ]
    }
   ],
   "source": [
    "# 2-10\n",
    "\n",
    "PI=3.141592\n",
    "\n",
    "r=float(input(\"원의 반지름을 입력하세요 : \"))\n",
    "c=r*2*PI\n",
    "area=r**2*PI\n",
    "print(\"원의 둘레 =\",c,\"원의 면적 =\",area)"
   ]
  },
  {
   "cell_type": "code",
   "execution_count": 24,
   "id": "e2d08ebb",
   "metadata": {},
   "outputs": [
    {
     "name": "stdout",
     "output_type": "stream",
     "text": [
      "It's really hot!\n",
      "I said \"Hello!\" to him.\n",
      "He said \"What's there?\"\n",
      "Newline character is \\n, Tab character is \\t.\n",
      "Working directory is C:\\workspace\\mywork.\n"
     ]
    }
   ],
   "source": [
    "# 2-11\n",
    "\n",
    "print('It\\'s really hot!')\n",
    "print('I said \"Hello!\" to him.')\n",
    "print('He said \"What\\'s there?\"')\n",
    "print('Newline character is \\\\n, Tab character is \\\\t.')\n",
    "print('Working directory is C:\\\\workspace\\\\mywork.')\n"
   ]
  },
  {
   "cell_type": "code",
   "execution_count": null,
   "id": "09972abb",
   "metadata": {},
   "outputs": [],
   "source": []
  }
 ],
 "metadata": {
  "kernelspec": {
   "display_name": "Python 3 (ipykernel)",
   "language": "python",
   "name": "python3"
  },
  "language_info": {
   "codemirror_mode": {
    "name": "ipython",
    "version": 3
   },
   "file_extension": ".py",
   "mimetype": "text/x-python",
   "name": "python",
   "nbconvert_exporter": "python",
   "pygments_lexer": "ipython3",
   "version": "3.11.8"
  }
 },
 "nbformat": 4,
 "nbformat_minor": 5
}
