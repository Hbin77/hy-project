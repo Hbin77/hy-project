{
 "cells": [
  {
   "cell_type": "markdown",
   "id": "bbb16144",
   "metadata": {},
   "source": [
    "# 20244300_박현빈(20240910)\n",
    "- 박현빈, 박효연\n",
    "- 20244300, 20244358\n"
   ]
  },
  {
   "cell_type": "markdown",
   "id": "2db7f8db",
   "metadata": {},
   "source": [
    "## 오늘 배운것들\n",
    "- 파이썬을 이용해 간단한 연산을 하였다.  \n",
    "- 파이썬을 이용해 팩토리얼을 for문으로 표시해 보았다.\n",
    "- turtle문을 사용하여 삼각형을 그려보았다."
   ]
  },
  {
   "cell_type": "markdown",
   "id": "8cec51f5",
   "metadata": {},
   "source": [
    "## 어려운 점들\n",
    "- 딱히 없었다."
   ]
  },
  {
   "cell_type": "markdown",
   "id": "ed9a32e7",
   "metadata": {},
   "source": [
    "## 주관식 문제\n",
    "(1) 데이터과학   \n",
    "(2) 데이터 중심의 과학   \n",
    "(3) 데이터 엔지니어(공학자)   \n",
    "(4) 기계학습 엔지니어(공학자)   \n",
    "(5) 프로그램   \n",
    "(6) 기계어   \n",
    "(7)프로그래밍 언어   \n",
    "(8)귀도 반 로썸   \n",
    "(9)인터프리터   \n",
    "(10)문자열   \n",
    "(11)print()   \n",
    "(12)주석(comment)   \n",
    "(13)터틀 그래픽   "
   ]
  },
  {
   "cell_type": "markdown",
   "id": "4c8029dc",
   "metadata": {},
   "source": [
    "## 심화문제\n",
    "### 1.1\n",
    "(1)프로그래밍은 컴퓨터가 특정 작업을 수행할 수 있도록 명령어를 작성하고 구현하는 과정  \n",
    "(2)인터프리터(interpreter)는 프로그래밍 언어의 소스 코드를 한 줄씩 읽고 실행하는 프로그램  \n",
    "(3)컴파일러(compiler)는 프로그래밍 언어의 소스 코드를 기계어 또는 중간 코드로 번역하여 실행 가능한 파일을 생성하는 프로그램  \n",
    "(4)통합 개발 환경(IDE)은 코드 작성, 디버깅, 빌드, 테스트 등을 통합적으로 지원하는 소프트웨어 도구  \n",
    "(5)프롬프트(prompt)는 여러 가지 상황에서 사용될 수 있는 용어로, 일반적으로 사용자에게 입력을 요청하거나 유도하는 메시지 또는 신호를 의미  \n",
    "(6)라이브러리는 특정 기능을 수행하는 코드 모음으로, 개발자가 필요할 때 호출하여 사용할 수 있는 재사용 가능한 함수나 클래스의 집합  \n",
    "(7)문자열은 문자들이 순서대로 나열된 데이터 유형으로, 텍스트를 표현하는 데 사용  \n",
    "(8)표현식(expression)은 값을 계산하거나 변환하는 코드 조각으로, 변수, 상수, 연산자 등을 포함  \n"
   ]
  },
  {
   "cell_type": "markdown",
   "id": "e7d14256",
   "metadata": {},
   "source": [
    "### 1.2\n",
    "(1) ctrl + N  \n",
    "(2) F5  \n",
    "(3) ctrl + O  \n",
    "(4) alt + N(처음 입력한 것부터 불러오기), alt +P(마지막 입력한 것부터 불러오기)  \n",
    "(5) ctrl+N(새 문서), ctrl+S(문서저장), F5(실행)  "
   ]
  },
  {
   "cell_type": "markdown",
   "id": "7490cd7c",
   "metadata": {},
   "source": [
    "### 1.3"
   ]
  },
  {
   "cell_type": "code",
   "execution_count": 2,
   "id": "3413997e",
   "metadata": {},
   "outputs": [
    {
     "name": "stdout",
     "output_type": "stream",
     "text": [
      "100\n"
     ]
    }
   ],
   "source": [
    "# (1)\n",
    "print(100)"
   ]
  },
  {
   "cell_type": "code",
   "execution_count": 3,
   "id": "68256ae2",
   "metadata": {},
   "outputs": [
    {
     "name": "stdout",
     "output_type": "stream",
     "text": [
      "300\n"
     ]
    }
   ],
   "source": [
    "# (2)\n",
    "print(100 +200)"
   ]
  },
  {
   "cell_type": "code",
   "execution_count": 4,
   "id": "b3594a0e",
   "metadata": {},
   "outputs": [
    {
     "name": "stdout",
     "output_type": "stream",
     "text": [
      "100 + 200\n"
     ]
    }
   ],
   "source": [
    "# (3)\n",
    "print('100 + 200')"
   ]
  },
  {
   "cell_type": "code",
   "execution_count": 5,
   "id": "caae4bbe",
   "metadata": {},
   "outputs": [
    {
     "name": "stdout",
     "output_type": "stream",
     "text": [
      "100 200\n"
     ]
    }
   ],
   "source": [
    "#(4)\n",
    "print(100, 200)"
   ]
  },
  {
   "cell_type": "code",
   "execution_count": 6,
   "id": "a7081351",
   "metadata": {},
   "outputs": [
    {
     "name": "stdout",
     "output_type": "stream",
     "text": [
      "100200\n"
     ]
    }
   ],
   "source": [
    "# (5)\n",
    "print('100','200')"
   ]
  },
  {
   "cell_type": "code",
   "execution_count": 8,
   "id": "7edc3e71",
   "metadata": {},
   "outputs": [
    {
     "name": "stdout",
     "output_type": "stream",
     "text": [
      "100200\n"
     ]
    }
   ],
   "source": [
    "# (6)\n",
    "print('100''200')"
   ]
  },
  {
   "cell_type": "code",
   "execution_count": 9,
   "id": "1ae1b532",
   "metadata": {},
   "outputs": [
    {
     "name": "stdout",
     "output_type": "stream",
     "text": [
      "Hello Python!\n"
     ]
    }
   ],
   "source": [
    "# (7)\n",
    "print('Hello Python!')\n"
   ]
  },
  {
   "cell_type": "code",
   "execution_count": 10,
   "id": "d15c9a80",
   "metadata": {},
   "outputs": [
    {
     "name": "stdout",
     "output_type": "stream",
     "text": [
      "Hello Python !\n"
     ]
    }
   ],
   "source": [
    "# (8)\n",
    "print('Hello', 'Python','!')"
   ]
  },
  {
   "cell_type": "code",
   "execution_count": 11,
   "id": "2a28da91",
   "metadata": {},
   "outputs": [
    {
     "name": "stdout",
     "output_type": "stream",
     "text": [
      "HelloPython!\n"
     ]
    }
   ],
   "source": [
    "# (9)\n",
    "print('Hello' + 'Python' + '!')"
   ]
  },
  {
   "cell_type": "code",
   "execution_count": 12,
   "id": "1dd2163b",
   "metadata": {},
   "outputs": [
    {
     "name": "stdout",
     "output_type": "stream",
     "text": [
      "HelloPython!\n"
     ]
    }
   ],
   "source": [
    "# (10)\n",
    "print('Hello''Python''!')"
   ]
  },
  {
   "cell_type": "code",
   "execution_count": 13,
   "id": "ac69c605",
   "metadata": {},
   "outputs": [
    {
     "name": "stdout",
     "output_type": "stream",
     "text": [
      "********************\n"
     ]
    }
   ],
   "source": [
    "# (11)\n",
    "print('********************')"
   ]
  },
  {
   "cell_type": "code",
   "execution_count": 14,
   "id": "24235a31",
   "metadata": {},
   "outputs": [
    {
     "name": "stdout",
     "output_type": "stream",
     "text": [
      "********************\n"
     ]
    }
   ],
   "source": [
    "# (12)\n",
    "print('*' * 20)"
   ]
  },
  {
   "cell_type": "markdown",
   "id": "2800e1ef",
   "metadata": {},
   "source": [
    "### 1.4"
   ]
  },
  {
   "cell_type": "code",
   "execution_count": 20,
   "id": "7893f99d",
   "metadata": {},
   "outputs": [
    {
     "name": "stdout",
     "output_type": "stream",
     "text": [
      "Hello Python!\n"
     ]
    }
   ],
   "source": [
    "# (1)\n",
    "print(\"Hello Python!\")"
   ]
  },
  {
   "cell_type": "code",
   "execution_count": 23,
   "id": "cffb864e",
   "metadata": {},
   "outputs": [
    {
     "name": "stdout",
     "output_type": "stream",
     "text": [
      "* 20\n"
     ]
    }
   ],
   "source": [
    "# (2)\n",
    "print('*', 20)"
   ]
  },
  {
   "cell_type": "code",
   "execution_count": 19,
   "id": "9492b327",
   "metadata": {},
   "outputs": [
    {
     "name": "stdout",
     "output_type": "stream",
     "text": [
      "Life is short learn Python!\n"
     ]
    }
   ],
   "source": [
    "# (3)\n",
    "print(\"Life is short learn Python!\")"
   ]
  },
  {
   "cell_type": "code",
   "execution_count": 24,
   "id": "d4ff462a",
   "metadata": {},
   "outputs": [
    {
     "name": "stdout",
     "output_type": "stream",
     "text": [
      "300\n"
     ]
    }
   ],
   "source": [
    "# (4)\n",
    "print(100 + 200)"
   ]
  },
  {
   "cell_type": "markdown",
   "id": "4c69e2a0",
   "metadata": {},
   "source": [
    "### 1.5 welcome5.py"
   ]
  },
  {
   "cell_type": "code",
   "execution_count": 26,
   "id": "9b813d7b",
   "metadata": {},
   "outputs": [
    {
     "name": "stdout",
     "output_type": "stream",
     "text": [
      "I love Python!!\n",
      "I love Python!!\n",
      "I love Python!!\n",
      "I love Python!!\n",
      "I love Python!!\n",
      "\n"
     ]
    }
   ],
   "source": [
    "print(\"I love Python!!\\n\"*5)"
   ]
  },
  {
   "cell_type": "markdown",
   "id": "4d3a0bdb",
   "metadata": {},
   "source": [
    "### 1.6"
   ]
  },
  {
   "cell_type": "code",
   "execution_count": 29,
   "id": "a93c7836",
   "metadata": {},
   "outputs": [
    {
     "name": "stdout",
     "output_type": "stream",
     "text": [
      "*\n",
      "**\n",
      "***\n",
      "****\n",
      "*****\n"
     ]
    }
   ],
   "source": [
    "for i in range(1,6):\n",
    "    print(\"*\"*i)\n"
   ]
  },
  {
   "cell_type": "markdown",
   "id": "c99f368b",
   "metadata": {},
   "source": [
    "### 1.7"
   ]
  },
  {
   "cell_type": "code",
   "execution_count": null,
   "id": "05bcfd18",
   "metadata": {},
   "outputs": [],
   "source": [
    "# (1) 직각 삼각형 그리기 (ch01-7-1.py)\n",
    "import turtle\n",
    "\n",
    "t=turtle.Turtle()\n",
    "t.shape('turtle')\n",
    "\n",
    "t.forward(100)\n",
    "t.left(135)\n",
    "t.forward(141)\n",
    "t.left(135)\n",
    "t.forward(100)\n",
    "\n",
    "turtle.done()"
   ]
  },
  {
   "cell_type": "code",
   "execution_count": 3,
   "id": "92c627e4",
   "metadata": {},
   "outputs": [],
   "source": [
    "# (2) 겹쳐진 정 삼각형 그리기 (ch01-7-2.py)\n",
    "import turtle\n",
    "\n",
    "t=turtle.Turtle()\n",
    "t.shape('turtle')\n",
    "\n",
    "\n",
    "t.forward(100)\n",
    "t.left(120)\n",
    "t.forward(100)\n",
    "t.left(120)\n",
    "t.forward(100)\n",
    "t.left(240)\n",
    "t.forward(100)\n",
    "t.left(240)\n",
    "t.forward(100)\n",
    "\n",
    "turtle.done()"
   ]
  },
  {
   "cell_type": "markdown",
   "id": "9a59c6d3",
   "metadata": {},
   "source": [
    "### 1.8"
   ]
  },
  {
   "cell_type": "code",
   "execution_count": 4,
   "id": "fc8f4fbf",
   "metadata": {},
   "outputs": [
    {
     "data": {
      "text/plain": [
       "300"
      ]
     },
     "execution_count": 4,
     "metadata": {},
     "output_type": "execute_result"
    }
   ],
   "source": [
    "#(1)\n",
    "100 +100"
   ]
  },
  {
   "cell_type": "code",
   "execution_count": 7,
   "id": "a0a70ee3",
   "metadata": {},
   "outputs": [
    {
     "data": {
      "text/plain": [
       "50.0"
      ]
     },
     "execution_count": 7,
     "metadata": {},
     "output_type": "execute_result"
    }
   ],
   "source": [
    "100/2"
   ]
  },
  {
   "cell_type": "markdown",
   "id": "b5d8609b",
   "metadata": {},
   "source": [
    "### 1.10"
   ]
  },
  {
   "cell_type": "code",
   "execution_count": 8,
   "id": "0bfe7e43",
   "metadata": {},
   "outputs": [
    {
     "data": {
      "text/plain": [
       "55"
      ]
     },
     "execution_count": 8,
     "metadata": {},
     "output_type": "execute_result"
    }
   ],
   "source": [
    "#(1) 1에서 10까지의 정수\n",
    "1+2+3+4+5+6+7+8+9+10"
   ]
  },
  {
   "cell_type": "code",
   "execution_count": 9,
   "id": "221a6ba0",
   "metadata": {},
   "outputs": [
    {
     "data": {
      "text/plain": [
       "31.400000000000002"
      ]
     },
     "execution_count": 9,
     "metadata": {},
     "output_type": "execute_result"
    }
   ],
   "source": [
    "#(2)\n",
    "3.14*5*2"
   ]
  },
  {
   "cell_type": "code",
   "execution_count": 10,
   "id": "7ce5e4e1",
   "metadata": {},
   "outputs": [
    {
     "data": {
      "text/plain": [
       "80"
      ]
     },
     "execution_count": 10,
     "metadata": {},
     "output_type": "execute_result"
    }
   ],
   "source": [
    "#(3)\n",
    "20*4"
   ]
  },
  {
   "cell_type": "code",
   "execution_count": 11,
   "id": "e05ea253",
   "metadata": {},
   "outputs": [
    {
     "data": {
      "text/plain": [
       "400"
      ]
     },
     "execution_count": 11,
     "metadata": {},
     "output_type": "execute_result"
    }
   ],
   "source": [
    "#(4)\n",
    "20**2"
   ]
  },
  {
   "cell_type": "code",
   "execution_count": 12,
   "id": "c0f83e1a",
   "metadata": {},
   "outputs": [
    {
     "data": {
      "text/plain": [
       "80"
      ]
     },
     "execution_count": 12,
     "metadata": {},
     "output_type": "execute_result"
    }
   ],
   "source": [
    "#(5)\n",
    "(10+30)*2"
   ]
  },
  {
   "cell_type": "code",
   "execution_count": 13,
   "id": "78284287",
   "metadata": {},
   "outputs": [
    {
     "data": {
      "text/plain": [
       "300"
      ]
     },
     "execution_count": 13,
     "metadata": {},
     "output_type": "execute_result"
    }
   ],
   "source": [
    "#(6)\n",
    "10*30"
   ]
  },
  {
   "cell_type": "code",
   "execution_count": 14,
   "id": "e422ceb0",
   "metadata": {},
   "outputs": [
    {
     "data": {
      "text/plain": [
       "300.0"
      ]
     },
     "execution_count": 14,
     "metadata": {},
     "output_type": "execute_result"
    }
   ],
   "source": [
    "#(7)\n",
    "20*30/2"
   ]
  },
  {
   "cell_type": "markdown",
   "id": "c9ef84ae",
   "metadata": {},
   "source": [
    "### 1.11"
   ]
  },
  {
   "cell_type": "code",
   "execution_count": 15,
   "id": "39eb00dc",
   "metadata": {},
   "outputs": [
    {
     "data": {
      "text/plain": [
       "6"
      ]
     },
     "execution_count": 15,
     "metadata": {},
     "output_type": "execute_result"
    }
   ],
   "source": [
    "3*2*1"
   ]
  },
  {
   "cell_type": "code",
   "execution_count": 18,
   "id": "f4090984",
   "metadata": {},
   "outputs": [
    {
     "name": "stdout",
     "output_type": "stream",
     "text": [
      "5! = 120\n"
     ]
    }
   ],
   "source": [
    "fact = 1\n",
    "for i in range(1,6):\n",
    "    fact *= i\n",
    "    \n",
    "print('5! =', fact)"
   ]
  },
  {
   "cell_type": "code",
   "execution_count": 19,
   "id": "bc56af4d",
   "metadata": {},
   "outputs": [
    {
     "data": {
      "text/plain": [
       "5040"
      ]
     },
     "execution_count": 19,
     "metadata": {},
     "output_type": "execute_result"
    }
   ],
   "source": [
    "1*2*3*4*5*6*7"
   ]
  },
  {
   "cell_type": "code",
   "execution_count": null,
   "id": "153978c3",
   "metadata": {},
   "outputs": [],
   "source": []
  }
 ],
 "metadata": {
  "kernelspec": {
   "display_name": "Python 3 (ipykernel)",
   "language": "python",
   "name": "python3"
  },
  "language_info": {
   "codemirror_mode": {
    "name": "ipython",
    "version": 3
   },
   "file_extension": ".py",
   "mimetype": "text/x-python",
   "name": "python",
   "nbconvert_exporter": "python",
   "pygments_lexer": "ipython3",
   "version": "3.11.8"
  }
 },
 "nbformat": 4,
 "nbformat_minor": 5
}
